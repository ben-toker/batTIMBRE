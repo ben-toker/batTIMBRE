{
 "cells": [
  {
   "cell_type": "code",
   "execution_count": 1,
   "id": "1e5bbf5c-4ea6-4085-9315-0b29465bc760",
   "metadata": {},
   "outputs": [],
   "source": [
    "from dataset import *"
   ]
  },
  {
   "cell_type": "markdown",
   "id": "55aefed9-f093-48b7-a275-309a455e3e6c",
   "metadata": {},
   "source": [
    "# Parameters"
   ]
  },
  {
   "cell_type": "code",
   "execution_count": 2,
   "id": "c9017369-7f7b-4ea3-89a7-56d4d9c7a295",
   "metadata": {},
   "outputs": [],
   "source": [
    "data_path = '/Users/tenboker/Desktop/Code Shtuff/FRITZ/yartsev/bat' # Replace this\n",
    "bat_id = '32622'\n",
    "date =  '231007'\n"
   ]
  },
  {
   "cell_type": "markdown",
   "id": "88ff281a-b979-436e-bc86-92c0ccc592c5",
   "metadata": {},
   "source": [
    "# Load data"
   ]
  },
  {
   "cell_type": "code",
   "execution_count": 3,
   "id": "c8a77505-7603-4d25-91a4-d9a0a562d3b9",
   "metadata": {},
   "outputs": [
    {
     "name": "stdout",
     "output_type": "stream",
     "text": [
      "Loading cortex data...\n",
      "Loading flight paths data...\n"
     ]
    },
    {
     "name": "stderr",
     "output_type": "stream",
     "text": [
      "/Users/tenboker/Desktop/Code Shtuff/FRITZ/yartsev/venv/lib/python3.12/site-packages/scipy/io/matlab/_mio.py:227: MatReadWarning: Duplicate variable name \"None\" in stream - replacing previous with new\n",
      "Consider mio5.varmats_from_mat to split file into single variable files\n",
      "  matfile_dict = MR.get_variables(variable_names)\n"
     ]
    },
    {
     "name": "stdout",
     "output_type": "stream",
     "text": [
      "Done!\n",
      "Loading analog data...\n",
      "Done!\n",
      "Loading spike data...\n",
      "Saving Flight Room | 32622 | 231007 to cache...\n"
     ]
    }
   ],
   "source": [
    "session = FlightRoomSession(data_path, bat_id, date, use_cache = False) # use_cache = True to save time on future loads"
   ]
  },
  {
   "cell_type": "markdown",
   "id": "471dbe25-7591-4b07-b245-cbc21165ea2d",
   "metadata": {},
   "source": [
    "# Some dataset basics\n",
    "\n",
    "In this dataset we have 1 bat with 2 Neuropixel probes implanted in dorsal CA1 and CA3 hippocampus (unilaterally). For the experiment task, the bat is trained to forage from 2 automated feeders in a large room where the bat is allowed to fly freely. We track the bat's position using a system called Cortex. \n",
    "\n",
    "Behaviorally, bats naturally form stereotyped trajectories between their preferred perch location and the feeders. We can see this by plotting their X and Y position in the room during the recording"
   ]
  },
  {
   "cell_type": "code",
   "execution_count": 5,
   "id": "f1298611-fb71-442b-8942-3aa2a75c5d99",
   "metadata": {},
   "outputs": [
    {
     "ename": "ModuleNotFoundError",
     "evalue": "No module named 'bat'",
     "output_type": "error",
     "traceback": [
      "\u001b[0;31m---------------------------------------------------------------------------\u001b[0m",
      "\u001b[0;31mModuleNotFoundError\u001b[0m                       Traceback (most recent call last)",
      "Cell \u001b[0;32mIn[5], line 1\u001b[0m\n\u001b[0;32m----> 1\u001b[0m \u001b[38;5;28;01mfrom\u001b[39;00m \u001b[38;5;21;01mhelpers_bat\u001b[39;00m \u001b[38;5;28;01mimport\u001b[39;00m \u001b[38;5;241m*\u001b[39m\n\u001b[1;32m      2\u001b[0m pos \u001b[38;5;241m=\u001b[39m session\u001b[38;5;241m.\u001b[39mcortex_data\u001b[38;5;241m.\u001b[39mbat_pos \u001b[38;5;66;03m# (num_timepoints, XYZ)\u001b[39;00m\n\u001b[1;32m      3\u001b[0m pos\u001b[38;5;241m.\u001b[39mshape\n",
      "File \u001b[0;32m~/Desktop/Code Shtuff/FRITZ/yartsev/bat/helpers_bat.py:7\u001b[0m\n\u001b[1;32m      5\u001b[0m \u001b[38;5;28;01mfrom\u001b[39;00m \u001b[38;5;21;01mrandom\u001b[39;00m \u001b[38;5;28;01mimport\u001b[39;00m sample\n\u001b[1;32m      6\u001b[0m \u001b[38;5;28;01mfrom\u001b[39;00m \u001b[38;5;21;01mdataset\u001b[39;00m \u001b[38;5;28;01mimport\u001b[39;00m \u001b[38;5;241m*\u001b[39m\n\u001b[0;32m----> 7\u001b[0m \u001b[38;5;28;01mfrom\u001b[39;00m \u001b[38;5;21;01mbat\u001b[39;00m\u001b[38;5;21;01m.\u001b[39;00m\u001b[38;5;21;01mhelpers_bat\u001b[39;00m \u001b[38;5;28;01mimport\u001b[39;00m balanced_indices\n\u001b[1;32m      9\u001b[0m \u001b[38;5;124;03m'''\u001b[39;00m\n\u001b[1;32m     10\u001b[0m \u001b[38;5;124;03mA set of helper functions for preprocessing the bat data.\u001b[39;00m\n\u001b[1;32m     11\u001b[0m \u001b[38;5;124;03m@author: Kevin Kaiwen Qi\u001b[39;00m\n\u001b[1;32m     12\u001b[0m \u001b[38;5;124;03m@author: Ben Toker\u001b[39;00m\n\u001b[1;32m     13\u001b[0m \u001b[38;5;124;03m'''\u001b[39;00m\n\u001b[1;32m     15\u001b[0m \u001b[38;5;28;01mdef\u001b[39;00m \u001b[38;5;21mfind_multi_label_bins\u001b[39m(spk_timebins, labels, label_timestamps_sec):\n",
      "\u001b[0;31mModuleNotFoundError\u001b[0m: No module named 'bat'"
     ]
    }
   ],
   "source": [
    "from helpers_bat import *\n",
    "pos = session.cortex_data.bat_pos # (num_timepoints, XYZ)\n",
    "pos.shape\n",
    "pos[:,1]"
   ]
  },
  {
   "cell_type": "code",
   "execution_count": null,
   "id": "00dce7dc-c54f-4891-a819-113bf501e9bd",
   "metadata": {},
   "outputs": [],
   "source": [
    "plt.plot(pos[:,0], pos[:,1]) # Feeder location are the 2 cusps on the right\n"
   ]
  },
  {
   "cell_type": "code",
   "execution_count": null,
   "id": "0a7bd7f9",
   "metadata": {},
   "outputs": [],
   "source": [
    "\n",
    "cleaned_pos = np.copy(pos)\n",
    "cleaned_pos[:, 0] = interpolate_nans(pos[:, 0])\n",
    "cleaned_pos[:, 1] = interpolate_nans(pos[:, 1])\n",
    "cleaned_pos[:, 2] = interpolate_nans(pos[:, 2])"
   ]
  },
  {
   "cell_type": "code",
   "execution_count": null,
   "id": "4c2994f0",
   "metadata": {},
   "outputs": [],
   "source": [
    "# Verify the contents of cleaned_pos\n",
    "print(f\"Number of non-nan values in cleaned_pos_x: {np.sum(~np.isnan(cleaned_pos[:, 0]))}\")\n",
    "print(f\"Number of non-nan values in cleaned_pos_y: {np.sum(~np.isnan(cleaned_pos[:, 1]))}\")\n",
    "print(f\"Number of non-nan values in cleaned_pos_z: {np.sum(~np.isnan(cleaned_pos[:, 2]))}\")\n",
    "\n",
    "# Plot the cleaned positional data\n",
    "plt.plot(cleaned_pos[:, 0], cleaned_pos[:, 1])\n",
    "plt.xlabel('X Position')\n",
    "plt.ylabel('Y Position')\n",
    "plt.title('Cleaned Positional Data')\n",
    "plt.show()"
   ]
  },
  {
   "cell_type": "markdown",
   "id": "0080212e-ca78-496b-abe7-87e82b40ce9f",
   "metadata": {},
   "source": [
    "Because the bat forms these stereotyped trajectories, we can naturally cluster their flights into discrete sets. \n",
    "Cluster 1 flights are all the unstructured flights; flights that do not follow a predictable path.\n",
    "Clusters 2 and onwards (structured; more repeated flight paths) are the clusters sorted in descending order by the number of flights in each cluster. \n",
    "You can access these clusters via:"
   ]
  },
  {
   "cell_type": "code",
   "execution_count": null,
   "id": "8ff660b9-d240-4a6e-8b1a-595139494728",
   "metadata": {},
   "outputs": [],
   "source": [
    "session"
   ]
  },
  {
   "cell_type": "code",
   "execution_count": null,
   "id": "4048297b-3b63-4a27-9171-0696db0732a6",
   "metadata": {},
   "outputs": [],
   "source": [
    "cluster_2_flights = session.get_flights_by_cluster((2,)) # List of all cluster 2 flights\n",
    "cluster_2_and_3_flights = session.get_flights_by_cluster((2,3)) # List of all cluster 2 and 3 flights\n",
    "\n",
    "cluster_2_flights[0].__dict__ # You can access the start and end of the flights and other information\n",
    "\n"
   ]
  },
  {
   "cell_type": "markdown",
   "id": "a5c31d33",
   "metadata": {},
   "source": [
    "# Visualizing the flight paths\n",
    "We can visualize the flight paths in 3D by cluster. We will notice that there are two feeder locations on the left and right of the same wall, with a perch in the corner of the opposite wall. The directionality and timing of these flight paths are clearer with the annotated clusters below."
   ]
  },
  {
   "cell_type": "code",
   "execution_count": null,
   "id": "19753b47",
   "metadata": {},
   "outputs": [],
   "source": [
    "import matplotlib.pyplot as plt\n",
    "from mpl_toolkits.mplot3d import Axes3D\n",
    "import numpy as np\n",
    "import matplotlib.colors as mcolors\n",
    "\n",
    "# Assuming `session` is already defined and contains the flight data\n",
    "\n",
    "# Get all clusters as a list of integers and sort them, excluding cluster 1\n",
    "all_clusters = sorted([int(cluster_id) for cluster_id in session.flights_by_cluster.keys() if int(cluster_id) != 1])\n",
    "\n",
    "# Separate cluster 1 flights\n",
    "cluster_1_flights = session.get_flights_by_cluster([1])\n",
    "\n",
    "# Create a colormap\n",
    "colors = list(mcolors.TABLEAU_COLORS.values())\n",
    "\n",
    "# Lists to store ending positions\n",
    "perch_positions = []\n",
    "feeder_1_positions = []\n",
    "feeder_2_positions = []\n",
    "\n",
    "# Plot 3D flight paths with different colors for each cluster (excluding cluster 1)\n",
    "fig = plt.figure(figsize=(14, 8))  # Adjust the figure size as needed\n",
    "ax = fig.add_subplot(111, projection='3d')\n",
    "\n",
    "# Create a dictionary to store labels for the legend\n",
    "labels = {}\n",
    "\n",
    "for idx, cluster_id in enumerate(all_clusters):\n",
    "    cluster_flights = session.get_flights_by_cluster([cluster_id])\n",
    "    for flight in cluster_flights:\n",
    "        start_idx, end_idx = flight.timebin_start_idx, flight.timebin_end_idx\n",
    "        color = colors[idx % len(colors)]\n",
    "        ax.plot(pos[start_idx:end_idx, 0], pos[start_idx:end_idx, 1], pos[start_idx:end_idx, 2], color=color)\n",
    "        \n",
    "        # Add the label for the legend only once per cluster\n",
    "        if cluster_id not in labels:\n",
    "            labels[cluster_id] = color\n",
    "        \n",
    "        # Collect ending positions\n",
    "        end_position = pos[end_idx - 1]  # Get the last position of the flight\n",
    "        if end_position[1] > 0 and end_position[0] < 0:\n",
    "            perch_positions.append(end_position)\n",
    "        elif end_position[1] > 0 and end_position[0] > 0:\n",
    "            feeder_1_positions.append(end_position)\n",
    "        elif end_position[1] < 0 and end_position[0] > 0:\n",
    "            feeder_2_positions.append(end_position)\n",
    "\n",
    "# Calculate average positions\n",
    "perch_avg = np.mean(perch_positions, axis=0) if perch_positions else np.array([np.nan, np.nan, np.nan])\n",
    "feeder_1_avg = np.mean(feeder_1_positions, axis=0) if feeder_1_positions else np.array([np.nan, np.nan, np.nan])\n",
    "feeder_2_avg = np.mean(feeder_2_positions, axis=0) if feeder_2_positions else np.array([np.nan, np.nan, np.nan])\n",
    "\n",
    "# Plot average positions for perch and feeders\n",
    "ax.scatter(perch_avg[0], perch_avg[1], perch_avg[2], color='black', marker='o', s=100, label='Perch')\n",
    "ax.scatter(feeder_1_avg[0], feeder_1_avg[1], feeder_1_avg[2], color='blue', marker='o', s=100, label='Feeder 1')\n",
    "ax.scatter(feeder_2_avg[0], feeder_2_avg[1], feeder_2_avg[2], color='purple', marker='o', s=100, label='Feeder 2')\n",
    "\n",
    "# Set labels for each axis\n",
    "ax.set_xlabel('X')\n",
    "ax.set_ylabel('Y')\n",
    "ax.set_zlabel('Z')\n",
    "\n",
    "# Set a title for the plot\n",
    "ax.set_title('Bat Flight Paths by Cluster')\n",
    "\n",
    "# Create a legend\n",
    "legend_handles = [plt.Line2D([0], [0], color=color, lw=4, label=f'Cluster {cluster_id}')\n",
    "                  for cluster_id, color in labels.items()]\n",
    "legend_handles.append(plt.Line2D([0], [0], color='black', marker='o', markersize=10, label='Perch', linestyle=''))\n",
    "legend_handles.append(plt.Line2D([0], [0], color='blue', marker='o', markersize=10, label='Feeder 1', linestyle=''))\n",
    "legend_handles.append(plt.Line2D([0], [0], color='purple', marker='o', markersize=10, label='Feeder 2', linestyle=''))\n",
    "\n",
    "ax.legend(handles=legend_handles, bbox_to_anchor=(1.05, 1), loc='upper left')\n",
    "\n",
    "ax.view_init(elev=50, azim=-120)  # Adjust the elevation and azimuth angle as needed\n",
    "\n",
    "# Show the plot\n",
    "plt.show()\n"
   ]
  },
  {
   "cell_type": "code",
   "execution_count": null,
   "id": "f69e647a",
   "metadata": {},
   "outputs": [],
   "source": [
    "# Plot 3D flight paths for cluster 1, color-coded by individual flights\n",
    "\n",
    "# Separate cluster 1 flights\n",
    "cluster_1_flights = session.get_flights_by_cluster([1])\n",
    "\n",
    "fig_cluster_1 = plt.figure(figsize=(14, 8))\n",
    "ax_cluster_1 = fig_cluster_1.add_subplot(111, projection='3d')\n",
    "\n",
    "for idx, flight in enumerate(cluster_1_flights):\n",
    "    start_idx, end_idx = flight.timebin_start_idx, flight.timebin_end_idx\n",
    "    color = colors[idx % len(colors)]\n",
    "    ax_cluster_1.plot(pos[start_idx:end_idx, 0], pos[start_idx:end_idx, 1], pos[start_idx:end_idx, 2], color=color)\n",
    "\n",
    "# Set labels for each axis\n",
    "ax_cluster_1.set_xlabel('X')\n",
    "ax_cluster_1.set_ylabel('Y')\n",
    "ax_cluster_1.set_zlabel('Z')\n",
    "\n",
    "# Set a title for the plot\n",
    "ax_cluster_1.set_title('Unstructured Bat Flight Paths (Cluster 1)')\n",
    "\n",
    "ax_cluster_1.view_init(elev=50,azim=-120)  # Adjust the elevation and azimuth angle as needed\n",
    "\n",
    "\n",
    "# Show the plot\n",
    "plt.show()"
   ]
  },
  {
   "cell_type": "code",
   "execution_count": null,
   "id": "3054d7ac",
   "metadata": {},
   "outputs": [],
   "source": [
    "import matplotlib.pyplot as plt\n",
    "from mpl_toolkits.mplot3d import Axes3D\n",
    "import numpy as np\n",
    "\n",
    "# Assuming `session` is already defined and contains the flight data\n",
    "all_clusters = sorted([int(cluster_id) for cluster_id in session.flights_by_cluster.keys() if int(cluster_id) != 1])\n",
    "\n",
    "# Function to calculate Euclidean distance between two points\n",
    "def distance(p1, p2):\n",
    "    return np.linalg.norm(p1 - p2)\n",
    "\n",
    "# Loop through each cluster and create a separate plot\n",
    "for cluster_idx, cluster_id in enumerate(all_clusters):\n",
    "    cluster_flights = session.get_flights_by_cluster([cluster_id])\n",
    "\n",
    "    fig = plt.figure(figsize=(14, 6))\n",
    "    ax = fig.add_subplot(111, projection='3d')\n",
    "\n",
    "    for flight_idx, flight in enumerate(cluster_flights):\n",
    "        start_idx, end_idx = flight.timebin_start_idx, flight.timebin_end_idx\n",
    "        \n",
    "        # flight_pos stores the XYZ coordinates of the flight positions between start_idx and end_idx.\n",
    "        # Each row in flight_pos represents the coordinates at a specific time point.\n",
    "        # flight_pos[i, 0], flight_pos[i, 1], flight_pos[i, 2] represent the X, Y, Z coordinates of the flight at the i-th time point, respectively.\n",
    "        flight_pos = pos[start_idx:end_idx]\n",
    "\n",
    "        if flight_pos.size == 0:\n",
    "            continue  # Skip if there are no positions\n",
    "\n",
    "        ax.plot(flight_pos[:, 0], flight_pos[:, 1], flight_pos[:, 2], color=colors[cluster_idx % len(colors)])\n",
    "\n",
    "        # Mark the start and end points with different colors\n",
    "        ax.scatter(flight_pos[0, 0], flight_pos[0, 1], flight_pos[0, 2], color='green', marker='.', s=100, label='Start Point' if flight_idx == 0 else \"\")\n",
    "        ax.scatter(flight_pos[-1, 0], flight_pos[-1, 1], flight_pos[-1, 2], color='red', marker='.', s=100, label='End Point' if flight_idx == 0 else \"\")\n",
    "\n",
    "        # Calculate the interval for annotations\n",
    "        interval = max(1, len(flight_pos) // 10)  # Adjust the number of annotations as needed\n",
    "        time_difference = interval * 0.008333333333333  # Time difference in seconds\n",
    "\n",
    "        previous_annotation = None\n",
    "        for i in range(0, len(flight_pos) - 10, interval):\n",
    "            if previous_annotation is None or distance(flight_pos[i], previous_annotation) > 1:  # Adjust the distance threshold as needed\n",
    "                ax.scatter(flight_pos[i, 0], flight_pos[i, 1], flight_pos[i, 2], color='black', marker='.')  # Change annotation color here\n",
    "                previous_annotation = flight_pos[i]\n",
    "\n",
    "    # Setting labels and title\n",
    "    ax.set_xlabel('X')\n",
    "    ax.set_ylabel('Y')\n",
    "    ax.set_zlabel('Z')\n",
    "    ax.set_title(f'Flight Paths for Cluster {cluster_id} (time annotated)')\n",
    "\n",
    "    # Set consistent limits for the axes\n",
    "    ax.set_xlim(-3, 3)\n",
    "    ax.set_ylim(-2, 2)\n",
    "    ax.set_zlim(0, 2)\n",
    "\n",
    "    # Add text box for time difference annotation\n",
    "    textstr = f'Time difference between annotations: {time_difference:.4f} seconds'\n",
    "    props = dict(boxstyle='round', facecolor='wheat', alpha=0.5)\n",
    "    fig.text(0.5, 0.01, textstr, ha='center', fontsize=12, bbox=props)  # Adjust the position of the text\n",
    "\n",
    "    # Add legend\n",
    "    ax.legend(loc='upper left')\n",
    "    \n",
    "    ax.view_init(elev=50, azim=-160)  \n",
    "\n",
    "    plt.show()\n"
   ]
  },
  {
   "cell_type": "markdown",
   "id": "78e3467c-87b5-4242-9667-cc7dc9f51a52",
   "metadata": {},
   "source": [
    "For neural data, you can access data via:"
   ]
  },
  {
   "cell_type": "code",
   "execution_count": null,
   "id": "b10ac523-a7b7-414b-861d-2044e79cb595",
   "metadata": {},
   "outputs": [],
   "source": [
    "session.spike_data.__dict__.keys()"
   ]
  },
  {
   "cell_type": "code",
   "execution_count": null,
   "id": "f9c5fcb5-f082-42e8-84f9-c8e12fbeffc9",
   "metadata": {},
   "outputs": [],
   "source": [
    "session.spike_data.num_cells_per_probe"
   ]
  },
  {
   "cell_type": "code",
   "execution_count": null,
   "id": "d4e78d4f-7a01-41ba-8def-8c9542943a59",
   "metadata": {},
   "outputs": [],
   "source": [
    "single_units = session.spike_data.all_single_units # List of all single units\n",
    "single_units[13] # Cell # 13. Depth is measured from tip of probe (small number = deeper = probably CA3, larger number = probably CA1)\n",
    "\n",
    "# single_units['spikeTimes_sec'] contains the spike times of the cell."
   ]
  },
  {
   "cell_type": "code",
   "execution_count": null,
   "id": "9c75a087-5e4c-4e8d-9d3a-553c27ba7ebc",
   "metadata": {},
   "outputs": [],
   "source": [
    "# Can estimate the instantaneous firing rate of each cell via:\n",
    "dt = 0.01 # Timescale you are interested in\n",
    "spks, spks_timebin_edges = session.spike_data.estimate_firing_rates(dt, zscore=True, smooth=True, sigma_sec=0.05) # Optional to zscore or to smooth the estimated firing rate"
   ]
  },
  {
   "cell_type": "markdown",
   "id": "d49c534c-13da-4361-94f7-e6c769c368d5",
   "metadata": {},
   "source": [
    "## Data synchronization\n",
    "\n",
    "As each data stream is recorded independently, it is crucial to synchronize the timestamps of each data stream as no 2 clocks are the same. We accomplish this by having each data stream record TTL pulses from a single source. Based on the TTL timings we can adjust the timestamps of each data sample into a commmon clock. I call this the global_timestamps. The global_timestamps calculations have already been done, so you can simply access it.\n",
    "\n",
    "What you might need to do is resample the datastreams (based on the global timestamps) to match each other. A common use case is binning spikes times into fixed timebins, then binning the behavioral data into the same timebins so that you have a one-to-one matching of neural data and behavioral data at every timebin. I included a helper function for this you may find useful."
   ]
  },
  {
   "cell_type": "code",
   "execution_count": null,
   "id": "051e5113-7365-45bc-958f-37f8ae9baf76",
   "metadata": {},
   "outputs": [],
   "source": [
    "from helpers_bat import label_timebins"
   ]
  }
 ],
 "metadata": {
  "kernelspec": {
   "display_name": "Python 3 (ipykernel)",
   "language": "python",
   "name": "python3"
  },
  "language_info": {
   "codemirror_mode": {
    "name": "ipython",
    "version": 3
   },
   "file_extension": ".py",
   "mimetype": "text/x-python",
   "name": "python",
   "nbconvert_exporter": "python",
   "pygments_lexer": "ipython3",
   "version": "3.12.4"
  }
 },
 "nbformat": 4,
 "nbformat_minor": 5
}
