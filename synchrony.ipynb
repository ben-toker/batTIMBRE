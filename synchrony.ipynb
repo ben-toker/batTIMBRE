{
 "cells": [
  {
   "cell_type": "code",
   "execution_count": 9,
   "metadata": {},
   "outputs": [
    {
     "name": "stdout",
     "output_type": "stream",
     "text": [
      "The autoreload extension is already loaded. To reload it, use:\n",
      "  %reload_ext autoreload\n",
      "Loading Flight Room | 32622 | 231007 from cache...\n"
     ]
    }
   ],
   "source": [
    "import hdf5storage\n",
    "import rat.helpers as helpers\n",
    "import rat.get_data as get_data\n",
    "import numpy as np\n",
    "from bat.helpers_bat import *\n",
    "from bat.get_data import *\n",
    "\n",
    "\n",
    "%load_ext autoreload\n",
    "%autoreload 2\n",
    "lfp_mat = hdf5storage.loadmat('./bat/data/ephys/32622_231007_lfp.mat')\n",
    "data_path = './bat/data' # Replace this\n",
    "bat_id = '32622'\n",
    "date =  '231007'\n",
    "session = FlightRoomSession(data_path, bat_id, date, use_cache = True) # use_cache = True to save time on future loads"
   ]
  },
  {
   "cell_type": "code",
   "execution_count": 10,
   "metadata": {},
   "outputs": [
    {
     "data": {
      "text/plain": [
       "(841160, 3)"
      ]
     },
     "execution_count": 10,
     "metadata": {},
     "output_type": "execute_result"
    }
   ],
   "source": [
    "pos = session.cortex_data.bat_pos\n",
    "cleaned_pos = np.copy(pos)\n",
    "# still position on walls are nans (dont interpolate large gaps of nans)\n",
    "cleaned_pos[:, 0] = interpolate_nans(pos[:, 0])\n",
    "cleaned_pos[:, 1] = interpolate_nans(pos[:, 1])\n",
    "cleaned_pos[:, 2] = interpolate_nans(pos[:, 2])\n",
    "cleaned_pos.shape"
   ]
  },
  {
   "cell_type": "code",
   "execution_count": 22,
   "metadata": {},
   "outputs": [
    {
     "data": {
      "text/plain": [
       "(1706894,)"
      ]
     },
     "execution_count": 22,
     "metadata": {},
     "output_type": "execute_result"
    }
   ],
   "source": [
    "from scipy.signal import decimate\n",
    "lfp_timestamps = lfp_mat['global_sample_timestamps_usec'] #global timestamps in microseconds\n",
    "lfp_timestamps_dec = decimate(lfp_timestamps.flatten(), 10) #decimate from 2500 Hz to 250 Hz\n",
    "\n",
    "lfp_indices = lfp_timestamps_dec > 0 # lop off negative timestamps on LFP timestamps; we will use this to refit the LFP data later.\n",
    "\n",
    "lfp_timestamps_dec = lfp_timestamps_dec[lfp_indices] \n",
    "lfp_timestamps_edges = np.insert(lfp_timestamps_dec, 0, 0) # insert 0 at the beginning\n",
    "\n",
    "lfp_timestamps_edges.shape\n",
    "#lfp_timestamps_edges[0:10]"
   ]
  },
  {
   "cell_type": "code",
   "execution_count": 12,
   "metadata": {},
   "outputs": [],
   "source": [
    "pos_timestamps = session.cortex_data.cortex_global_sample_timestamps_sec * 1e6 #converting to microseconds (usec)\n",
    "valid_indices = pos_timestamps > 0 #we can use this to get rid of negative timestamps on anything position related\n",
    "\n",
    "pos_timestamps = pos_timestamps[valid_indices] # lop off negative timestamps \n",
    "cleaned_pos = cleaned_pos[valid_indices] # lop off the corresponding positions"
   ]
  },
  {
   "cell_type": "code",
   "execution_count": 13,
   "metadata": {},
   "outputs": [],
   "source": [
    "# Bin positional data using the provided label_timebins function\n",
    "binned_pos_x = label_timebins(lfp_timestamps_edges, cleaned_pos[:, 0], pos_timestamps, is_discrete=False)\n",
    "binned_pos_y = label_timebins(lfp_timestamps_edges, cleaned_pos[:, 1], pos_timestamps, is_discrete=False)\n",
    "binned_pos_z = label_timebins(lfp_timestamps_edges, cleaned_pos[:, 2], pos_timestamps, is_discrete=False)\n",
    "\n",
    "# Construct the array according to its columns\n",
    "binned_pos = np.column_stack((binned_pos_x, binned_pos_y, binned_pos_z))"
   ]
  },
  {
   "cell_type": "code",
   "execution_count": 14,
   "metadata": {},
   "outputs": [],
   "source": [
    "from rat.get_data import get_LFP_from_mat\n",
    "\n",
    "lfp_data_1 = lfp_mat['lfp'][0, 0]\n",
    "lfp_data_2 = lfp_mat['lfp'][0, 1]\n",
    "n_channels = lfp_data_1.shape[0] #same # of channels for lfp_data_1 and lfp_data_2 (change if not the case)\n",
    "\n",
    "# bat LFP data sampled at 2500 Hz\n",
    "lfp_bat_1 = get_LFP_from_mat(lfp_data_1,n_channels,2500,fs=250, use_cache=True) \n",
    "lfp_bat_2 = get_LFP_from_mat(lfp_data_2,n_channels,2500,fs=250, use_cache=True)\n",
    "\n",
    "test_LFP = np.concatenate((lfp_bat_1, lfp_bat_2), axis=1) "
   ]
  },
  {
   "cell_type": "code",
   "execution_count": 25,
   "metadata": {},
   "outputs": [
    {
     "data": {
      "text/plain": [
       "(1706893, 384)"
      ]
     },
     "execution_count": 25,
     "metadata": {},
     "output_type": "execute_result"
    }
   ],
   "source": [
    "#test_LFP = test_LFP[lfp_indices]\n",
    "test_LFP.shape\n",
    "\n",
    "#lfp_timestamps_edges.shape"
   ]
  },
  {
   "cell_type": "code",
   "execution_count": 27,
   "metadata": {},
   "outputs": [],
   "source": [
    "from bat.get_data import get_flightLFP\n",
    "\n",
    "#def get_flightLFP(session, LFPs, valid_indices, lfp_timestamps_decimated_bins, pos_timestamps):\n",
    "tLFP = get_flightLFP(session, test_LFP, valid_indices, lfp_timestamps_edges, pos_timestamps)"
   ]
  },
  {
   "cell_type": "code",
   "execution_count": 34,
   "metadata": {},
   "outputs": [],
   "source": [
    "import numpy as np\n",
    "import matplotlib.pyplot as plt\n",
    "from scipy import signal\n",
    "\n",
    "def bandpass_filter(data, lowcut, highcut, fs, order=4):\n",
    "    nyquist = 0.5 * fs\n",
    "    low = lowcut / nyquist\n",
    "    high = highcut / nyquist\n",
    "    if low >= 1 or high >= 1 or low <= 0 or high <= 0:\n",
    "        raise ValueError(f\"Invalid cutoff frequencies: low={lowcut}, high={highcut} with nyquist={nyquist}\")\n",
    "    b, a = signal.butter(order, [low, high], btype='band')\n",
    "    return signal.filtfilt(b, a, data, axis=0)\n",
    "\n",
    "def plot_lfp_alignment_by_band(tLFP, sampling_rate=250, n_flights_to_plot=10):\n",
    "    \"\"\"\n",
    "    Generate plots to check alignment between filtered LFP data and flight trials across different frequency bands.\n",
    "    \n",
    "    Parameters:\n",
    "    - tLFP: Array containing flight number and LFP data (output from get_flightLFP)\n",
    "    - sampling_rate: Sampling rate of the LFP data (default 250 Hz)\n",
    "    - n_flights_to_plot: Number of flights to plot (default 10)\n",
    "    \n",
    "    Returns:\n",
    "    - None (displays plots)\n",
    "    \"\"\"\n",
    "    num_flights = int(np.max(tLFP[:, 0]))\n",
    "    flights_to_plot = np.linspace(0, num_flights-1, n_flights_to_plot, dtype=int)\n",
    "    \n",
    "    # Define frequency bands (adjusted to be within valid range)\n",
    "    frequency_bands = {\n",
    "        'Delta': (0.5, 4),\n",
    "        'Theta': (4, 8),\n",
    "        'Alpha': (8, 12),\n",
    "        'Beta': (12, 30),\n",
    "        'Gamma': (30, 80),\n",
    "        #'High Gamma': (80, 150),  # Excluded because it exceeds Nyquist frequency\n",
    "        #'Ripples': (150, 250)     # Excluded because it exceeds Nyquist frequency\n",
    "    }\n",
    "    \n",
    "    fig, axes = plt.subplots(len(frequency_bands), 3, figsize=(15, 5 * len(frequency_bands)))\n",
    "    \n",
    "    for band_idx, (band_name, (lowcut, highcut)) in enumerate(frequency_bands.items()):\n",
    "        # Filter LFP data for the current band\n",
    "        filtered_data = bandpass_filter(tLFP[:, 1:], lowcut, highcut, sampling_rate)\n",
    "        \n",
    "        # Plot raw LFP, power, and phase for each flight\n",
    "        for flight_idx in flights_to_plot:\n",
    "            flight_data = filtered_data[tLFP[:, 0] == flight_idx+1]\n",
    "            \n",
    "            if len(flight_data) == 0:\n",
    "                continue\n",
    "            \n",
    "            flight_duration = len(flight_data) / sampling_rate\n",
    "            flight_time_bins = np.linspace(0, flight_duration, len(flight_data))\n",
    "            \n",
    "            # Plot raw LFP (mean across channels, real part)\n",
    "            axes[band_idx, 0].plot(flight_time_bins, np.mean(np.real(flight_data), axis=1), alpha=0.5, label=f'Flight {flight_idx+1}')\n",
    "            \n",
    "            # Calculate and plot power\n",
    "            power = np.abs(flight_data)**2\n",
    "            axes[band_idx, 1].plot(flight_time_bins, np.mean(power, axis=1), alpha=0.5, label=f'Flight {flight_idx+1}')\n",
    "            \n",
    "            # Calculate and plot phase\n",
    "            phase = np.angle(flight_data)\n",
    "            axes[band_idx, 2].plot(flight_time_bins, np.mean(phase, axis=1), alpha=0.5, label=f'Flight {flight_idx+1}')\n",
    "        \n",
    "        axes[band_idx, 0].set_title(f'{band_name} Band - Raw LFP (Real Part)')\n",
    "        axes[band_idx, 0].set_xlabel('Time from flight start (s)')\n",
    "        axes[band_idx, 0].set_ylabel('Amplitude')\n",
    "        \n",
    "        axes[band_idx, 1].set_title(f'{band_name} Band - LFP Power')\n",
    "        axes[band_idx, 1].set_xlabel('Time from flight start (s)')\n",
    "        axes[band_idx, 1].set_ylabel('Power')\n",
    "        \n",
    "        axes[band_idx, 2].set_title(f'{band_name} Band - LFP Phase')\n",
    "        axes[band_idx, 2].set_xlabel('Time from flight start (s)')\n",
    "        axes[band_idx, 2].set_ylabel('Phase (radians)')\n",
    "    \n",
    "    plt.suptitle('LFP, Power, and Phase aligned to flight starts across Frequency Bands')\n",
    "    plt.tight_layout(rect=[0, 0.03, 1, 0.97])\n",
    "    plt.show()\n",
    "\n",
    "# Example usage (replace tLFP with your actual data)\n",
    "plot_lfp_alignment_by_band(tLFP, sampling_rate=250, n_flights_to_plot=10)\n"
   ]
  },
  {
   "cell_type": "code",
   "execution_count": null,
   "metadata": {},
   "outputs": [],
   "source": []
  },
  {
   "cell_type": "code",
   "execution_count": null,
   "metadata": {},
   "outputs": [],
   "source": []
  }
 ],
 "metadata": {
  "kernelspec": {
   "display_name": "venv",
   "language": "python",
   "name": "python3"
  },
  "language_info": {
   "codemirror_mode": {
    "name": "ipython",
    "version": 3
   },
   "file_extension": ".py",
   "mimetype": "text/x-python",
   "name": "python",
   "nbconvert_exporter": "python",
   "pygments_lexer": "ipython3",
   "version": "3.12.4"
  }
 },
 "nbformat": 4,
 "nbformat_minor": 2
}
